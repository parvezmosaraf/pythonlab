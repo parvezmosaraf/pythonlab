{
  "nbformat": 4,
  "nbformat_minor": 0,
  "metadata": {
    "colab": {
      "name": "Notebook-3.ipynb",
      "provenance": [],
      "collapsed_sections": []
    },
    "kernelspec": {
      "name": "python3",
      "display_name": "Python 3"
    }
  },
  "cells": [
    {
      "cell_type": "code",
      "metadata": {
        "colab": {
          "base_uri": "https://localhost:8080/"
        },
        "id": "278wQwbUpr0W",
        "outputId": "735fb749-a1ba-4cb5-eca1-048e2122ec83"
      },
      "source": [
        "#built-in functions\r\n",
        "\r\n",
        "print(\"Hi, I am semi-colon. Do you miss me?\")\r\n",
        "print(\"Let me know if you miss me or not. \")\r\n",
        "s=input()\r\n",
        "\r\n",
        "a=10\r\n",
        "b=21\r\n",
        "print(max(a,b))\r\n",
        "print(min(a,b))\r\n",
        "\r\n",
        "c=10.4\r\n",
        "d=int(c)\r\n",
        "print(d)\r\n",
        "\r\n",
        "e=\"python\"\r\n",
        "print(type(e))"
      ],
      "execution_count": 1,
      "outputs": [
        {
          "output_type": "stream",
          "text": [
            "Hi, I am semi-colon. Do you miss me?\n",
            "Let me know if you miss me or not. \n",
            "\n"
          ],
          "name": "stdout"
        }
      ]
    },
    {
      "cell_type": "code",
      "metadata": {
        "colab": {
          "base_uri": "https://localhost:8080/"
        },
        "id": "V9KSEw-Up8Yq",
        "outputId": "f13f3531-b03e-4420-9a63-9cf71138dbb9"
      },
      "source": [
        "#user defined function\r\n",
        "\r\n",
        "def add(a, b):\r\n",
        "    c=a+b\r\n",
        "    return c\r\n",
        "\r\n",
        "a=int(input(\"Enter a number: \"))\r\n",
        "b=int(input(\"Enter a number: \"))\r\n",
        "d=add(a,b)\r\n",
        "print(\"The sum is\", d)"
      ],
      "execution_count": null,
      "outputs": [
        {
          "output_type": "stream",
          "text": [
            "Enter a number: 10\n",
            "Enter a number: 20\n",
            "The sum is 30\n"
          ],
          "name": "stdout"
        }
      ]
    },
    {
      "cell_type": "code",
      "metadata": {
        "colab": {
          "base_uri": "https://localhost:8080/"
        },
        "id": "wZF-WQmtqF49",
        "outputId": "620d2b5e-898b-43c1-e834-59bfe284a7f1"
      },
      "source": [
        "#function with multiple parameters\r\n",
        "\r\n",
        "def divisor(x,y,m):\r\n",
        "    if x%m==0 and y%m==0:\r\n",
        "        print(\"%d & %d are divisible by %d\"%(x,y,m))\r\n",
        "    elif x%m==0:\r\n",
        "        print(\"only %d is divisible by %d\"%(x,m))\r\n",
        "    elif y%m==0:\r\n",
        "        print(\"only %d is divisible by %d\"%(y,m))\r\n",
        "    else:\r\n",
        "        print(\"none of %d & %d is divisible by %d\"%(x,y,d))\r\n",
        "\r\n",
        "divisor(10,20,5)\r\n",
        "divisor(12,20,5)\r\n",
        "divisor(10,22,5)\r\n",
        "divisor(2,5,3)"
      ],
      "execution_count": null,
      "outputs": [
        {
          "output_type": "stream",
          "text": [
            "10 & 20 are divisible by 5\n",
            "only 20 is divisible by 5\n",
            "only 10 is divisible by 5\n",
            "none of 2 & 5 is divisible by 30\n"
          ],
          "name": "stdout"
        }
      ]
    },
    {
      "cell_type": "code",
      "metadata": {
        "colab": {
          "base_uri": "https://localhost:8080/"
        },
        "id": "_GWfjynGqJsn",
        "outputId": "fdf41445-a9a7-4a1f-b335-d32bb1222462"
      },
      "source": [
        "#function without parameter\r\n",
        "\r\n",
        "def summation():\r\n",
        "    a=3+8\r\n",
        "    return a\r\n",
        "\r\n",
        "b=summation()\r\n",
        "print(b)"
      ],
      "execution_count": null,
      "outputs": [
        {
          "output_type": "stream",
          "text": [
            "11\n"
          ],
          "name": "stdout"
        }
      ]
    },
    {
      "cell_type": "code",
      "metadata": {
        "colab": {
          "base_uri": "https://localhost:8080/"
        },
        "id": "8SBqs6nnqM6G",
        "outputId": "ea8b333c-34b7-426c-909c-cc2910d43346"
      },
      "source": [
        "#function with default parameter value\r\n",
        "\r\n",
        "def check(a=0):\r\n",
        "    if a==0:\r\n",
        "        print(\"Zero\")\r\n",
        "    elif a>0:\r\n",
        "        print(\"Positive\")\r\n",
        "    else:\r\n",
        "        print(\"Negative\")\r\n",
        "\r\n",
        "check()     #without parameter\r\n",
        "check(-4)   #with parameter"
      ],
      "execution_count": null,
      "outputs": [
        {
          "output_type": "stream",
          "text": [
            "Zero\n",
            "Negative\n"
          ],
          "name": "stdout"
        }
      ]
    },
    {
      "cell_type": "code",
      "metadata": {
        "colab": {
          "base_uri": "https://localhost:8080/"
        },
        "id": "1GvtZ46ss5o4",
        "outputId": "b80b087a-1e1f-41c6-9dc9-60c69e948862"
      },
      "source": [
        "#local scope\r\n",
        "\r\n",
        "def local_scope():\r\n",
        "    x = 7 \r\n",
        "    print(x)\r\n",
        "\r\n",
        "local_scope()"
      ],
      "execution_count": null,
      "outputs": [
        {
          "output_type": "stream",
          "text": [
            "7\n"
          ],
          "name": "stdout"
        }
      ]
    },
    {
      "cell_type": "code",
      "metadata": {
        "colab": {
          "base_uri": "https://localhost:8080/"
        },
        "id": "5OGiQ3bgs7Ms",
        "outputId": "13f8f822-978c-4c28-e08d-94ce97e53f04"
      },
      "source": [
        "def local_scope():\r\n",
        "  x = 7\r\n",
        "  def local_scope_inner():\r\n",
        "    print(x)\r\n",
        "  local_scope_inner()\r\n",
        "\r\n",
        "local_scope()"
      ],
      "execution_count": null,
      "outputs": [
        {
          "output_type": "stream",
          "text": [
            "7\n"
          ],
          "name": "stdout"
        }
      ]
    },
    {
      "cell_type": "code",
      "metadata": {
        "colab": {
          "base_uri": "https://localhost:8080/"
        },
        "id": "xjpsfFCRq8iF",
        "outputId": "cd92e070-9b29-44ba-f33d-f52314c2c545"
      },
      "source": [
        "#global scope\r\n",
        "\r\n",
        "x=10\r\n",
        "\r\n",
        "def global_scope():\r\n",
        "    print(x)\r\n",
        "\r\n",
        "print(x)\r\n",
        "global_scope()"
      ],
      "execution_count": null,
      "outputs": [
        {
          "output_type": "stream",
          "text": [
            "10\n",
            "10\n"
          ],
          "name": "stdout"
        }
      ]
    },
    {
      "cell_type": "code",
      "metadata": {
        "colab": {
          "base_uri": "https://localhost:8080/"
        },
        "id": "CwsDyic5rIzK",
        "outputId": "3a4a1741-75b1-4760-b274-c51fc136ab80"
      },
      "source": [
        "#global scope\r\n",
        "\r\n",
        "def global_scope():\r\n",
        "    global x\r\n",
        "    x=10\r\n",
        "\r\n",
        "global_scope()\r\n",
        "print(x)"
      ],
      "execution_count": null,
      "outputs": [
        {
          "output_type": "stream",
          "text": [
            "10\n"
          ],
          "name": "stdout"
        }
      ]
    },
    {
      "cell_type": "code",
      "metadata": {
        "colab": {
          "base_uri": "https://localhost:8080/"
        },
        "id": "YDyBMC-arOXf",
        "outputId": "27a62dde-ef38-4604-a7f2-745d344de989"
      },
      "source": [
        "#python standard library\r\n",
        "#csv module\r\n",
        "\r\n",
        "import csv\r\n",
        "\r\n",
        "with open('test.csv', newline='') as csvfile:\r\n",
        "    tmp = csv.reader(csvfile, delimiter=' ', quotechar='|')\r\n",
        "    for row in tmp:\r\n",
        "        print(', '.join(row))"
      ],
      "execution_count": null,
      "outputs": [
        {
          "output_type": "stream",
          "text": [
            "Name,Popularity(out, of, 10)\n",
            "Python,9\n",
            "C,6\n",
            "C++,8\n",
            "Java,7\n",
            "Prolog,3\n"
          ],
          "name": "stdout"
        }
      ]
    },
    {
      "cell_type": "code",
      "metadata": {
        "colab": {
          "base_uri": "https://localhost:8080/"
        },
        "id": "rS9xLZ7zsH1p",
        "outputId": "28220dcc-75a6-47e6-9ec5-f58811e14a00"
      },
      "source": [
        "#python standard library\r\n",
        "#math module\r\n",
        "\r\n",
        "import math\r\n",
        "\r\n",
        "print(math.pi)          #value of pi\r\n",
        "\r\n",
        "x=9.2\r\n",
        "print(math.ceil(x))     #round to the smallest integer not less than x\r\n",
        "print(math.floor(x))    #rount to the largest integer not greater than x\r\n",
        "\r\n",
        "print(math.sin(78))     #trigonometric sine of x (x in radians)\r\n",
        "\r\n",
        "print(math.pow(2,3))    #2 to the power 3\r\n",
        "\r\n",
        "print(math.sqrt(16))    #square root of 16"
      ],
      "execution_count": null,
      "outputs": [
        {
          "output_type": "stream",
          "text": [
            "3.141592653589793\n",
            "10\n",
            "9\n",
            "0.5139784559875352\n",
            "8.0\n",
            "4.0\n"
          ],
          "name": "stdout"
        }
      ]
    }
  ]
}