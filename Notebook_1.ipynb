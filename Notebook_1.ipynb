{
  "nbformat": 4,
  "nbformat_minor": 0,
  "metadata": {
    "colab": {
      "name": "Notebook-1.ipynb",
      "provenance": [],
      "collapsed_sections": []
    },
    "kernelspec": {
      "name": "python3",
      "display_name": "Python 3"
    }
  },
  "cells": [
    {
      "cell_type": "markdown",
      "metadata": {
        "id": "Xwchat-rtI77"
      },
      "source": [
        "### **My Python First Program \"Print HeLLo World\"**"
      ]
    },
    {
      "cell_type": "code",
      "metadata": {
        "colab": {
          "base_uri": "https://localhost:8080/"
        },
        "id": "L8qffwzR4N57",
        "outputId": "ec17dd85-032a-46c3-b8ea-69ab5b37b8af"
      },
      "source": [
        "print(\"Hello World\")"
      ],
      "execution_count": null,
      "outputs": [
        {
          "output_type": "stream",
          "text": [
            "Hello World\n"
          ],
          "name": "stdout"
        }
      ]
    },
    {
      "cell_type": "markdown",
      "metadata": {
        "id": "6nwSQtta9cBZ"
      },
      "source": [
        "### **Variables and Assignment Statements**"
      ]
    },
    {
      "cell_type": "code",
      "metadata": {
        "colab": {
          "base_uri": "https://localhost:8080/"
        },
        "id": "Gks2S8VR9FrI",
        "outputId": "6473cdd9-26e1-4426-bca9-f42698954017"
      },
      "source": [
        "x=7\r\n",
        "y=3\r\n",
        "print(x+y)"
      ],
      "execution_count": null,
      "outputs": [
        {
          "output_type": "stream",
          "text": [
            "10\n"
          ],
          "name": "stdout"
        }
      ]
    },
    {
      "cell_type": "code",
      "metadata": {
        "colab": {
          "base_uri": "https://localhost:8080/"
        },
        "id": "YI0QJRDy9LEt",
        "outputId": "a8bd6b0a-2e8e-4033-bb04-a3b08c4f95e3"
      },
      "source": [
        "total = x+y\r\n",
        "print(total)"
      ],
      "execution_count": null,
      "outputs": [
        {
          "output_type": "stream",
          "text": [
            "10\n"
          ],
          "name": "stdout"
        }
      ]
    },
    {
      "cell_type": "code",
      "metadata": {
        "colab": {
          "base_uri": "https://localhost:8080/"
        },
        "id": "mh5GNuRG9QL9",
        "outputId": "b5209589-389b-4bc5-e24d-a275c060adfe"
      },
      "source": [
        "name = \"Parvez\"\r\n",
        "name2 = \"Mosaraf\"\r\n",
        "print(name , name2)"
      ],
      "execution_count": 1,
      "outputs": [
        {
          "output_type": "stream",
          "text": [
            "Parvez Mosaraf\n"
          ],
          "name": "stdout"
        }
      ]
    },
    {
      "cell_type": "markdown",
      "metadata": {
        "id": "8tllW8Xp9nD7"
      },
      "source": [
        "### **Types**"
      ]
    },
    {
      "cell_type": "code",
      "metadata": {
        "colab": {
          "base_uri": "https://localhost:8080/"
        },
        "id": "GFb8-26A9sOy",
        "outputId": "3521f0cc-feff-4071-b1a0-64af3cca39a9"
      },
      "source": [
        "x =10\r\n",
        "type(x)"
      ],
      "execution_count": null,
      "outputs": [
        {
          "output_type": "execute_result",
          "data": {
            "text/plain": [
              "int"
            ]
          },
          "metadata": {
            "tags": []
          },
          "execution_count": 5
        }
      ]
    },
    {
      "cell_type": "code",
      "metadata": {
        "colab": {
          "base_uri": "https://localhost:8080/"
        },
        "id": "jLwwo6gm9y8H",
        "outputId": "9deb78e1-6db7-49d2-b315-e16c836ffa96"
      },
      "source": [
        "type(10.5)"
      ],
      "execution_count": null,
      "outputs": [
        {
          "output_type": "execute_result",
          "data": {
            "text/plain": [
              "float"
            ]
          },
          "metadata": {
            "tags": []
          },
          "execution_count": 6
        }
      ]
    },
    {
      "cell_type": "code",
      "metadata": {
        "colab": {
          "base_uri": "https://localhost:8080/"
        },
        "id": "Mym1FGMv90zr",
        "outputId": "df99cecf-a424-472b-fade-d47ccd954efb"
      },
      "source": [
        "type(name)"
      ],
      "execution_count": null,
      "outputs": [
        {
          "output_type": "execute_result",
          "data": {
            "text/plain": [
              "str"
            ]
          },
          "metadata": {
            "tags": []
          },
          "execution_count": 7
        }
      ]
    },
    {
      "cell_type": "markdown",
      "metadata": {
        "id": "VpU-q7kR96uQ"
      },
      "source": [
        "### **Arithmetic operators**"
      ]
    },
    {
      "cell_type": "code",
      "metadata": {
        "colab": {
          "base_uri": "https://localhost:8080/"
        },
        "id": "y9cn0geM98FO",
        "outputId": "946b5bb6-a221-4224-8ad1-3865ff5e702c"
      },
      "source": [
        " multiplication = 7*4\r\n",
        " print(multiplication)"
      ],
      "execution_count": null,
      "outputs": [
        {
          "output_type": "stream",
          "text": [
            "28\n"
          ],
          "name": "stdout"
        }
      ]
    },
    {
      "cell_type": "code",
      "metadata": {
        "colab": {
          "base_uri": "https://localhost:8080/"
        },
        "id": "pJCGrvba-EfJ",
        "outputId": "f3a32797-2e2e-4dca-8376-c2d09b1572c8"
      },
      "source": [
        "add = 10+15\r\n",
        "print(add)"
      ],
      "execution_count": null,
      "outputs": [
        {
          "output_type": "stream",
          "text": [
            "25\n"
          ],
          "name": "stdout"
        }
      ]
    },
    {
      "cell_type": "code",
      "metadata": {
        "colab": {
          "base_uri": "https://localhost:8080/"
        },
        "id": "JXzDwcsQ-IwS",
        "outputId": "b6e59352-0aab-4f37-9cfd-c3d9ab3d71ae"
      },
      "source": [
        "sub = 40-8\r\n",
        "print(sub)"
      ],
      "execution_count": null,
      "outputs": [
        {
          "output_type": "stream",
          "text": [
            "32\n"
          ],
          "name": "stdout"
        }
      ]
    },
    {
      "cell_type": "code",
      "metadata": {
        "colab": {
          "base_uri": "https://localhost:8080/"
        },
        "id": "e8YxPFlO-Mwi",
        "outputId": "14af2410-d8df-4cd6-8e69-fc7a55fbfd40"
      },
      "source": [
        "Exponentiation = 2**10\r\n",
        "print(Exponentiation)"
      ],
      "execution_count": null,
      "outputs": [
        {
          "output_type": "stream",
          "text": [
            "1024\n"
          ],
          "name": "stdout"
        }
      ]
    },
    {
      "cell_type": "markdown",
      "metadata": {
        "id": "aG1C8jt5-VhS"
      },
      "source": [
        "True Division (/) vs. Floor Division (//)"
      ]
    },
    {
      "cell_type": "code",
      "metadata": {
        "colab": {
          "base_uri": "https://localhost:8080/"
        },
        "id": "3mpePqYk-Wx5",
        "outputId": "c4ecd886-5314-49ef-e4ff-fb963f72d26e"
      },
      "source": [
        "True_Division = 7/4\r\n",
        "print(True_Division)"
      ],
      "execution_count": null,
      "outputs": [
        {
          "output_type": "stream",
          "text": [
            "1.75\n"
          ],
          "name": "stdout"
        }
      ]
    },
    {
      "cell_type": "code",
      "metadata": {
        "colab": {
          "base_uri": "https://localhost:8080/"
        },
        "id": "66MmnsR5-a3d",
        "outputId": "3d90b383-1be7-49ab-9399-6b0bac419f8a"
      },
      "source": [
        "Floor_Division = 7//4\r\n",
        "print(Floor_Division)"
      ],
      "execution_count": null,
      "outputs": [
        {
          "output_type": "stream",
          "text": [
            "1\n"
          ],
          "name": "stdout"
        }
      ]
    },
    {
      "cell_type": "code",
      "metadata": {
        "colab": {
          "base_uri": "https://localhost:8080/"
        },
        "id": "WfF7Wu7W-gyf",
        "outputId": "e52fb2e1-ec9e-44d0-aead-7ac8b376e7d0"
      },
      "source": [
        "remainder = 15%7\r\n",
        "print(remainder)"
      ],
      "execution_count": null,
      "outputs": [
        {
          "output_type": "stream",
          "text": [
            "1\n"
          ],
          "name": "stdout"
        }
      ]
    },
    {
      "cell_type": "markdown",
      "metadata": {
        "id": "dwteK0Un-kcU"
      },
      "source": [
        "### **Relational Operators**"
      ]
    },
    {
      "cell_type": "code",
      "metadata": {
        "id": "_b4ga0J5-mS2"
      },
      "source": [
        "x = 105\r\n",
        "y = 100"
      ],
      "execution_count": null,
      "outputs": []
    },
    {
      "cell_type": "code",
      "metadata": {
        "colab": {
          "base_uri": "https://localhost:8080/"
        },
        "id": "qsPdQP6Y-zj5",
        "outputId": "fd08f67a-4a36-4cdb-d08d-63fd4886d2c1"
      },
      "source": [
        "x>y"
      ],
      "execution_count": null,
      "outputs": [
        {
          "output_type": "execute_result",
          "data": {
            "text/plain": [
              "True"
            ]
          },
          "metadata": {
            "tags": []
          },
          "execution_count": 15
        }
      ]
    },
    {
      "cell_type": "code",
      "metadata": {
        "colab": {
          "base_uri": "https://localhost:8080/"
        },
        "id": "APi0e0aL-2RI",
        "outputId": "a68837dd-e260-47f7-d2cb-37480719135f"
      },
      "source": [
        "x<y"
      ],
      "execution_count": null,
      "outputs": [
        {
          "output_type": "execute_result",
          "data": {
            "text/plain": [
              "False"
            ]
          },
          "metadata": {
            "tags": []
          },
          "execution_count": 16
        }
      ]
    },
    {
      "cell_type": "code",
      "metadata": {
        "colab": {
          "base_uri": "https://localhost:8080/"
        },
        "id": "0DjRY1cA-95Q",
        "outputId": "97b52af8-60fc-4772-b101-3db34f3ab79f"
      },
      "source": [
        "x==y"
      ],
      "execution_count": null,
      "outputs": [
        {
          "output_type": "execute_result",
          "data": {
            "text/plain": [
              "False"
            ]
          },
          "metadata": {
            "tags": []
          },
          "execution_count": 17
        }
      ]
    },
    {
      "cell_type": "code",
      "metadata": {
        "colab": {
          "base_uri": "https://localhost:8080/"
        },
        "id": "jAp_rQrD_Fpw",
        "outputId": "dbf085af-8e17-4966-bf12-506e5e7628e2"
      },
      "source": [
        "x!=y"
      ],
      "execution_count": null,
      "outputs": [
        {
          "output_type": "execute_result",
          "data": {
            "text/plain": [
              "True"
            ]
          },
          "metadata": {
            "tags": []
          },
          "execution_count": 18
        }
      ]
    },
    {
      "cell_type": "code",
      "metadata": {
        "colab": {
          "base_uri": "https://localhost:8080/"
        },
        "id": "gSyEIa43_G4J",
        "outputId": "36e432df-f853-4287-b75b-02b51b968468"
      },
      "source": [
        "x>=y"
      ],
      "execution_count": null,
      "outputs": [
        {
          "output_type": "execute_result",
          "data": {
            "text/plain": [
              "True"
            ]
          },
          "metadata": {
            "tags": []
          },
          "execution_count": 19
        }
      ]
    },
    {
      "cell_type": "code",
      "metadata": {
        "colab": {
          "base_uri": "https://localhost:8080/"
        },
        "id": "FbOy1C8R_KwA",
        "outputId": "a9302cda-87c6-4b65-d4f8-2b12de71af05"
      },
      "source": [
        "x<=y"
      ],
      "execution_count": null,
      "outputs": [
        {
          "output_type": "execute_result",
          "data": {
            "text/plain": [
              "False"
            ]
          },
          "metadata": {
            "tags": []
          },
          "execution_count": 20
        }
      ]
    },
    {
      "cell_type": "markdown",
      "metadata": {
        "id": "6WjQFyPy_Nve"
      },
      "source": [
        "Chaining Comparisons"
      ]
    },
    {
      "cell_type": "code",
      "metadata": {
        "id": "SdjlVJQ6_OrW"
      },
      "source": [
        "x = 3\r\n",
        "y = 10"
      ],
      "execution_count": null,
      "outputs": []
    },
    {
      "cell_type": "code",
      "metadata": {
        "colab": {
          "base_uri": "https://localhost:8080/"
        },
        "id": "E4Ruhr5Q_SQk",
        "outputId": "68c58a08-08ee-43e2-ca85-cbae782a4ae5"
      },
      "source": [
        "1 <= x <= 5"
      ],
      "execution_count": null,
      "outputs": [
        {
          "output_type": "execute_result",
          "data": {
            "text/plain": [
              "False"
            ]
          },
          "metadata": {
            "tags": []
          },
          "execution_count": 21
        }
      ]
    },
    {
      "cell_type": "code",
      "metadata": {
        "colab": {
          "base_uri": "https://localhost:8080/"
        },
        "id": "MubgxmKz_XNS",
        "outputId": "8fcee23f-087c-41a1-c90c-f4439d2285fa"
      },
      "source": [
        "1 <= y <= 5"
      ],
      "execution_count": null,
      "outputs": [
        {
          "output_type": "execute_result",
          "data": {
            "text/plain": [
              "True"
            ]
          },
          "metadata": {
            "tags": []
          },
          "execution_count": 22
        }
      ]
    },
    {
      "cell_type": "markdown",
      "metadata": {
        "id": "-l6CCh2N_boG"
      },
      "source": [
        "### **Print Function**"
      ]
    },
    {
      "cell_type": "markdown",
      "metadata": {
        "id": "IozbNylZ_jsL"
      },
      "source": [
        "Printing a Comma-Separated List of Items"
      ]
    },
    {
      "cell_type": "code",
      "metadata": {
        "colab": {
          "base_uri": "https://localhost:8080/"
        },
        "id": "ftAvErKH_kdu",
        "outputId": "467c399f-7efb-4899-a6f8-aa87c7161e19"
      },
      "source": [
        "print('Welcome', 'to', 'Python!')"
      ],
      "execution_count": null,
      "outputs": [
        {
          "output_type": "stream",
          "text": [
            "Welcome to Python!\n"
          ],
          "name": "stdout"
        }
      ]
    },
    {
      "cell_type": "markdown",
      "metadata": {
        "id": "DgYhYw2h_ww3"
      },
      "source": [
        "Printing Many Lines of Text with One Statement"
      ]
    },
    {
      "cell_type": "code",
      "metadata": {
        "colab": {
          "base_uri": "https://localhost:8080/"
        },
        "id": "vbwTe-Y4_xfb",
        "outputId": "d06ae352-dfa8-4aae-cfda-b5f521bab560"
      },
      "source": [
        "print('Welcome\\nto\\n\\nPython!')"
      ],
      "execution_count": null,
      "outputs": [
        {
          "output_type": "stream",
          "text": [
            "Welcome\n",
            "to\n",
            "\n",
            "Python!\n"
          ],
          "name": "stdout"
        }
      ]
    },
    {
      "cell_type": "markdown",
      "metadata": {
        "id": "C7flmKRln6Bd"
      },
      "source": [
        ""
      ]
    },
    {
      "cell_type": "markdown",
      "metadata": {
        "id": "-ZcDwTnioABF"
      },
      "source": [
        "The following table shows some common escape sequences.\r\n",
        "![sdsd.PNG](data:image/png;base64,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)"
      ]
    },
    {
      "cell_type": "markdown",
      "metadata": {
        "id": "GevgWCRvoD3b"
      },
      "source": [
        "Ignoring a Line Break in a Long String"
      ]
    },
    {
      "cell_type": "code",
      "metadata": {
        "colab": {
          "base_uri": "https://localhost:8080/"
        },
        "id": "Zi_9DApIoQVi",
        "outputId": "c33883f0-52ce-41f0-eea2-30690288ce4d"
      },
      "source": [
        "print('this is a longer string, so we \\\r\n",
        " split it over two lines')"
      ],
      "execution_count": null,
      "outputs": [
        {
          "output_type": "stream",
          "text": [
            "this is a longer string, so we  split it over two lines\n"
          ],
          "name": "stdout"
        }
      ]
    },
    {
      "cell_type": "markdown",
      "metadata": {
        "id": "6x84P45FoWWw"
      },
      "source": [
        "Printing the Value of an Expression"
      ]
    },
    {
      "cell_type": "code",
      "metadata": {
        "colab": {
          "base_uri": "https://localhost:8080/"
        },
        "id": "ZLRA2jB9oXNJ",
        "outputId": "03da6694-6a98-46a5-f2d6-8471d0c46e70"
      },
      "source": [
        "print('Sum is', 7 + 3)"
      ],
      "execution_count": null,
      "outputs": [
        {
          "output_type": "stream",
          "text": [
            "Sum is 10\n"
          ],
          "name": "stdout"
        }
      ]
    },
    {
      "cell_type": "markdown",
      "metadata": {
        "id": "BR1n7NXYohML"
      },
      "source": [
        "What does the following print statement display?\r\n",
        "\r\n",
        "**print('int(5.2)', 'truncates 5.2 to', int(5.2))**"
      ]
    },
    {
      "cell_type": "code",
      "metadata": {
        "colab": {
          "base_uri": "https://localhost:8080/"
        },
        "id": "Wb9tyIiDoqWt",
        "outputId": "4285f40e-9584-45f8-e3d5-514f1bc7f6b6"
      },
      "source": [
        "print('int(5.2)', 'truncates 5.2 to', int(5.2))"
      ],
      "execution_count": null,
      "outputs": [
        {
          "output_type": "stream",
          "text": [
            "int(5.2) truncates 5.2 to 5\n"
          ],
          "name": "stdout"
        }
      ]
    },
    {
      "cell_type": "markdown",
      "metadata": {
        "id": "FNWJ1cp6oxQb"
      },
      "source": [
        "Including Quotes in Strings"
      ]
    },
    {
      "cell_type": "code",
      "metadata": {
        "colab": {
          "base_uri": "https://localhost:8080/"
        },
        "id": "8dtQp0RGoyKq",
        "outputId": "90bd48aa-7050-49f9-cabf-550487b8fead"
      },
      "source": [
        "print('Display \"hi\" in quotes')"
      ],
      "execution_count": null,
      "outputs": [
        {
          "output_type": "stream",
          "text": [
            "Display \"hi\" in quotes\n"
          ],
          "name": "stdout"
        }
      ]
    },
    {
      "cell_type": "code",
      "metadata": {
        "colab": {
          "base_uri": "https://localhost:8080/"
        },
        "id": "vRuY8aMvo1js",
        "outputId": "41caeb10-ca04-44f2-af15-821574ddf032"
      },
      "source": [
        "print('Display \\'hi\\' in quotes')   #using the \\' escape sequence:"
      ],
      "execution_count": null,
      "outputs": [
        {
          "output_type": "stream",
          "text": [
            "Display 'hi' in quotes\n"
          ],
          "name": "stdout"
        }
      ]
    },
    {
      "cell_type": "code",
      "metadata": {
        "colab": {
          "base_uri": "https://localhost:8080/"
        },
        "id": "I1jKgt_6o5e_",
        "outputId": "2d292606-fc75-4082-bdd6-beed08e0fd6a"
      },
      "source": [
        "print(\"Display the name O'Brien\")"
      ],
      "execution_count": null,
      "outputs": [
        {
          "output_type": "stream",
          "text": [
            "Display the name O'Brien\n"
          ],
          "name": "stdout"
        }
      ]
    },
    {
      "cell_type": "code",
      "metadata": {
        "colab": {
          "base_uri": "https://localhost:8080/"
        },
        "id": "lPaIAwV9o7AA",
        "outputId": "992a2cdd-3f99-483b-893c-2f29cbdda30e"
      },
      "source": [
        "print(\"Display \\\"hi\\\" in quotes\")"
      ],
      "execution_count": null,
      "outputs": [
        {
          "output_type": "stream",
          "text": [
            "Display \"hi\" in quotes\n"
          ],
          "name": "stdout"
        }
      ]
    },
    {
      "cell_type": "markdown",
      "metadata": {
        "id": "6xg5fh0Go_2j"
      },
      "source": [
        "To avoid using ' and \" inside strings, you can enclose such strings in triple quotes:"
      ]
    },
    {
      "cell_type": "code",
      "metadata": {
        "colab": {
          "base_uri": "https://localhost:8080/"
        },
        "id": "gfIDz8m9pBi_",
        "outputId": "3609873c-3004-4792-d744-e95525648353"
      },
      "source": [
        "print(\"\"\"Display \"hi\" and 'bye' in quotes\"\"\")"
      ],
      "execution_count": null,
      "outputs": [
        {
          "output_type": "stream",
          "text": [
            "Display \"hi\" and 'bye' in quotes\n"
          ],
          "name": "stdout"
        }
      ]
    },
    {
      "cell_type": "markdown",
      "metadata": {
        "id": "kVo07EdMpGI1"
      },
      "source": [
        "Multiline Strings"
      ]
    },
    {
      "cell_type": "code",
      "metadata": {
        "id": "w2ublIi3pGx0"
      },
      "source": [
        "triple_quoted_string = \"\"\"This is a triple-quoted\r\n",
        "string that spans two lines\"\"\""
      ],
      "execution_count": null,
      "outputs": []
    },
    {
      "cell_type": "code",
      "metadata": {
        "colab": {
          "base_uri": "https://localhost:8080/"
        },
        "id": "p8ejqmo6pb8K",
        "outputId": "cab2db58-c29b-429a-bd3c-c0a9b413429b"
      },
      "source": [
        "print(triple_quoted_string)"
      ],
      "execution_count": null,
      "outputs": [
        {
          "output_type": "stream",
          "text": [
            "This is a triple-quoted\n",
            "string that spans two lines\n"
          ],
          "name": "stdout"
        }
      ]
    },
    {
      "cell_type": "code",
      "metadata": {
        "colab": {
          "base_uri": "https://localhost:8080/",
          "height": 35
        },
        "id": "QLOgLokopf4H",
        "outputId": "6241506c-6108-434b-a96f-21e6ff4c39b6"
      },
      "source": [
        "triple_quoted_string"
      ],
      "execution_count": null,
      "outputs": [
        {
          "output_type": "execute_result",
          "data": {
            "application/vnd.google.colaboratory.intrinsic+json": {
              "type": "string"
            },
            "text/plain": [
              "'This is a triple-quoted\\nstring that spans two lines'"
            ]
          },
          "metadata": {
            "tags": []
          },
          "execution_count": 13
        }
      ]
    },
    {
      "cell_type": "code",
      "metadata": {
        "colab": {
          "base_uri": "https://localhost:8080/"
        },
        "id": "GKvgR1gUpjqw",
        "outputId": "50c49374-11ce-403f-f7fa-8b78da85bbfe"
      },
      "source": [
        "print(\"\"\"This is a lengthy\r\n",
        "multiline string containing\r\n",
        "a few lines \\\r\n",
        "of text\"\"\")"
      ],
      "execution_count": null,
      "outputs": [
        {
          "output_type": "stream",
          "text": [
            "This is a lengthy\n",
            "multiline string containing\n",
            "a few lines of text\n"
          ],
          "name": "stdout"
        }
      ]
    },
    {
      "cell_type": "markdown",
      "metadata": {
        "id": "srr74Tg4pmvq"
      },
      "source": [
        "Precision Handling in Python"
      ]
    },
    {
      "cell_type": "code",
      "metadata": {
        "id": "Uk-VYQzZpni-"
      },
      "source": [
        "a = 3.4536475856"
      ],
      "execution_count": null,
      "outputs": []
    },
    {
      "cell_type": "code",
      "metadata": {
        "colab": {
          "base_uri": "https://localhost:8080/"
        },
        "id": "1vRyjJ7xpqR5",
        "outputId": "375bba02-5813-4fbe-c9e5-02876ea754cb"
      },
      "source": [
        "# using \"%\" to print value till 2 decimal places  \r\n",
        "print (\"The value of number till 2 decimal place(using %) is : \",end=\"\") \r\n",
        "print ('%.2f' %a) "
      ],
      "execution_count": null,
      "outputs": [
        {
          "output_type": "stream",
          "text": [
            "The value of number till 2 decimal place(using %) is : 3.45\n"
          ],
          "name": "stdout"
        }
      ]
    },
    {
      "cell_type": "code",
      "metadata": {
        "colab": {
          "base_uri": "https://localhost:8080/"
        },
        "id": "ZgmeDV-QpulY",
        "outputId": "bbc8b070-eccc-4188-9e92-8312db53ac1e"
      },
      "source": [
        "# using \"%\" to print value till 4 decimal places  \r\n",
        "print (\"The value of number till 2 decimal place(using %) is : \",end=\"\") \r\n",
        "print ('%.4f' %a)"
      ],
      "execution_count": null,
      "outputs": [
        {
          "output_type": "stream",
          "text": [
            "The value of number till 2 decimal place(using %) is : 3.4536\n"
          ],
          "name": "stdout"
        }
      ]
    },
    {
      "cell_type": "markdown",
      "metadata": {
        "id": "x9dU0zbBp0wG"
      },
      "source": [
        "### **Getting Input from the User**"
      ]
    },
    {
      "cell_type": "markdown",
      "metadata": {
        "id": "Qp_ndpSsp7cF"
      },
      "source": [
        "The built-in input function requests and obtains user input:"
      ]
    },
    {
      "cell_type": "code",
      "metadata": {
        "colab": {
          "base_uri": "https://localhost:8080/"
        },
        "id": "FAFjHO1mp8Lt",
        "outputId": "f12d4f4e-c807-4e31-b480-48131e243607"
      },
      "source": [
        "name = input(\"What's your name? \")"
      ],
      "execution_count": null,
      "outputs": [
        {
          "output_type": "stream",
          "text": [
            "What's your name? Esrah\n"
          ],
          "name": "stdout"
        }
      ]
    },
    {
      "cell_type": "code",
      "metadata": {
        "colab": {
          "base_uri": "https://localhost:8080/"
        },
        "id": "_TOv2pu8qDYc",
        "outputId": "8499a904-1efc-49c2-9a85-5ec89f0e0560"
      },
      "source": [
        "print(name)"
      ],
      "execution_count": null,
      "outputs": [
        {
          "output_type": "stream",
          "text": [
            "Esrah\n"
          ],
          "name": "stdout"
        }
      ]
    },
    {
      "cell_type": "code",
      "metadata": {
        "colab": {
          "base_uri": "https://localhost:8080/"
        },
        "id": "IRxAp74RqHkW",
        "outputId": "93031edc-d860-438a-de93-a501b5ac273e"
      },
      "source": [
        "value1 = input('Enter first number: ')\r\n",
        "value2 = input('Enter second number: ')\r\n"
      ],
      "execution_count": null,
      "outputs": [
        {
          "output_type": "stream",
          "text": [
            "Enter first number: 4\n",
            "Enter second number: 5\n"
          ],
          "name": "stdout"
        }
      ]
    },
    {
      "cell_type": "code",
      "metadata": {
        "colab": {
          "base_uri": "https://localhost:8080/"
        },
        "id": "S9ssJsf3qLRk",
        "outputId": "74198252-c2d6-4cd2-df52-9b613e5c49d1"
      },
      "source": [
        "total = value1 + value2\r\n",
        "print(total)"
      ],
      "execution_count": null,
      "outputs": [
        {
          "output_type": "stream",
          "text": [
            "45\n"
          ],
          "name": "stdout"
        }
      ]
    },
    {
      "cell_type": "code",
      "metadata": {
        "colab": {
          "base_uri": "https://localhost:8080/"
        },
        "id": "tKbE2K6GqV1K",
        "outputId": "a5bb3c70-570d-4001-956e-d5ed5937a1fd"
      },
      "source": [
        "type(total) #python takes input as a string we have to type cast the input"
      ],
      "execution_count": null,
      "outputs": [
        {
          "output_type": "execute_result",
          "data": {
            "text/plain": [
              "str"
            ]
          },
          "metadata": {
            "tags": []
          },
          "execution_count": 22
        }
      ]
    },
    {
      "cell_type": "code",
      "metadata": {
        "colab": {
          "base_uri": "https://localhost:8080/"
        },
        "id": "2zxgOP0jqYm0",
        "outputId": "a0d112b1-e262-479f-b882-ad76166d4760"
      },
      "source": [
        "total = int(value1) + int(value2) #type casting to int format\r\n",
        "print(total)  "
      ],
      "execution_count": null,
      "outputs": [
        {
          "output_type": "stream",
          "text": [
            "9\n"
          ],
          "name": "stdout"
        }
      ]
    },
    {
      "cell_type": "markdown",
      "metadata": {
        "id": "4TmxvNjSqcjD"
      },
      "source": [
        "Getting an Integer from the User by casting the input format"
      ]
    },
    {
      "cell_type": "code",
      "metadata": {
        "colab": {
          "base_uri": "https://localhost:8080/"
        },
        "id": "Uyp6ZgZZqdIo",
        "outputId": "bad11615-894a-4e7f-eaf0-d67aad427605"
      },
      "source": [
        "another_value = int(input('Enter another integer: '))"
      ],
      "execution_count": null,
      "outputs": [
        {
          "output_type": "stream",
          "text": [
            "Enter another integer: 5\n"
          ],
          "name": "stdout"
        }
      ]
    },
    {
      "cell_type": "code",
      "metadata": {
        "colab": {
          "base_uri": "https://localhost:8080/"
        },
        "id": "juaO3-Lcq62V",
        "outputId": "5de18190-8067-4b60-b7e8-da5165a5a52c"
      },
      "source": [
        "print(another_value)"
      ],
      "execution_count": null,
      "outputs": [
        {
          "output_type": "stream",
          "text": [
            "5\n"
          ],
          "name": "stdout"
        }
      ]
    },
    {
      "cell_type": "markdown",
      "metadata": {
        "id": "6SysaAvnq_ys"
      },
      "source": [
        "Taking multiple input from the user"
      ]
    },
    {
      "cell_type": "code",
      "metadata": {
        "colab": {
          "base_uri": "https://localhost:8080/"
        },
        "id": "wTpPifvSrBA3",
        "outputId": "2c9d1419-91d6-469d-d743-bf611ba863a3"
      },
      "source": [
        "a, b = input().split()"
      ],
      "execution_count": null,
      "outputs": [
        {
          "output_type": "stream",
          "text": [
            "3 4\n"
          ],
          "name": "stdout"
        }
      ]
    },
    {
      "cell_type": "code",
      "metadata": {
        "colab": {
          "base_uri": "https://localhost:8080/"
        },
        "id": "G-2HArcWrKjq",
        "outputId": "ed2cb525-922d-4fc4-c085-47b9348ee13d"
      },
      "source": [
        "print(a , b)"
      ],
      "execution_count": null,
      "outputs": [
        {
          "output_type": "stream",
          "text": [
            "3 4\n"
          ],
          "name": "stdout"
        }
      ]
    },
    {
      "cell_type": "code",
      "metadata": {
        "colab": {
          "base_uri": "https://localhost:8080/"
        },
        "id": "KigkpjzrrO9O",
        "outputId": "a2c77206-2d6b-46e2-eddc-bd885dc2bc28"
      },
      "source": [
        "print(type(a))"
      ],
      "execution_count": null,
      "outputs": [
        {
          "output_type": "stream",
          "text": [
            "<class 'str'>\n"
          ],
          "name": "stdout"
        }
      ]
    },
    {
      "cell_type": "markdown",
      "metadata": {
        "id": "u-KAlav_rSQ6"
      },
      "source": [
        "### **Solving Problem**"
      ]
    },
    {
      "cell_type": "markdown",
      "metadata": {
        "id": "hlMSqaACrZmq"
      },
      "source": [
        "Determining the Minimum and Maximum with Built-In Functions min and max"
      ]
    },
    {
      "cell_type": "code",
      "metadata": {
        "colab": {
          "base_uri": "https://localhost:8080/"
        },
        "id": "pogBkJiBrdlp",
        "outputId": "5e49e3d1-605d-4739-9afc-76672a910a8c"
      },
      "source": [
        "number1 = int(input('Enter first integer: '))\r\n",
        "number2 = int(input('Enter second integer: '))\r\n",
        "number3 = int(input('Enter third integer: '))"
      ],
      "execution_count": null,
      "outputs": [
        {
          "output_type": "stream",
          "text": [
            "Enter first integer: 4\n",
            "Enter second integer: 6\n",
            "Enter third integer: 8\n"
          ],
          "name": "stdout"
        }
      ]
    },
    {
      "cell_type": "code",
      "metadata": {
        "colab": {
          "base_uri": "https://localhost:8080/"
        },
        "id": "CkPewkcTric3",
        "outputId": "64fa3653-3dcd-4f55-cd26-5a8f3314aae0"
      },
      "source": [
        "min(number1,number2,number3)"
      ],
      "execution_count": null,
      "outputs": [
        {
          "output_type": "execute_result",
          "data": {
            "text/plain": [
              "4"
            ]
          },
          "metadata": {
            "tags": []
          },
          "execution_count": 31
        }
      ]
    },
    {
      "cell_type": "code",
      "metadata": {
        "colab": {
          "base_uri": "https://localhost:8080/"
        },
        "id": "rBtd_hHwrljY",
        "outputId": "7865bec4-9e95-4244-acb6-fada89a52c41"
      },
      "source": [
        "max(number1,number2,number3)"
      ],
      "execution_count": null,
      "outputs": [
        {
          "output_type": "execute_result",
          "data": {
            "text/plain": [
              "8"
            ]
          },
          "metadata": {
            "tags": []
          },
          "execution_count": 32
        }
      ]
    },
    {
      "cell_type": "markdown",
      "metadata": {
        "id": "kdKV7Sp3sXu2"
      },
      "source": [
        "### **Exercise**"
      ]
    },
    {
      "cell_type": "code",
      "metadata": {
        "colab": {
          "base_uri": "https://localhost:8080/"
        },
        "id": "XaNyQsa2sZ51",
        "outputId": "1fd31a74-19f8-4e35-a2ca-9ffcc3aae0d4"
      },
      "source": [
        "x = input('Enter first number: ')\r\n",
        "y = input('Enter second number: ')"
      ],
      "execution_count": null,
      "outputs": [
        {
          "output_type": "stream",
          "text": [
            "Enter first number: 2\n",
            "Enter second number: 3\n"
          ],
          "name": "stdout"
        }
      ]
    },
    {
      "cell_type": "code",
      "metadata": {
        "colab": {
          "base_uri": "https://localhost:8080/"
        },
        "id": "6jz4WMnVsjzs",
        "outputId": "2d1380e8-ee39-45bc-9281-5070657df3b0"
      },
      "source": [
        "print('x =', x)"
      ],
      "execution_count": null,
      "outputs": [
        {
          "output_type": "stream",
          "text": [
            "x = 2\n"
          ],
          "name": "stdout"
        }
      ]
    },
    {
      "cell_type": "code",
      "metadata": {
        "colab": {
          "base_uri": "https://localhost:8080/"
        },
        "id": "6bAVlsZKsnRj",
        "outputId": "e773b6ac-8ecb-44d0-e8cd-e27310fd0ac9"
      },
      "source": [
        "print('Value of', x, '+', x, 'is', (x + x))"
      ],
      "execution_count": null,
      "outputs": [
        {
          "output_type": "stream",
          "text": [
            "Value of 2 + 2 is 22\n"
          ],
          "name": "stdout"
        }
      ]
    },
    {
      "cell_type": "code",
      "metadata": {
        "colab": {
          "base_uri": "https://localhost:8080/"
        },
        "id": "06cHeT6vsqzC",
        "outputId": "3e1290f7-8d0a-4c26-8d93-d48e1abfd2f8"
      },
      "source": [
        "print('x =')"
      ],
      "execution_count": null,
      "outputs": [
        {
          "output_type": "stream",
          "text": [
            "x =\n"
          ],
          "name": "stdout"
        }
      ]
    }
  ]
}